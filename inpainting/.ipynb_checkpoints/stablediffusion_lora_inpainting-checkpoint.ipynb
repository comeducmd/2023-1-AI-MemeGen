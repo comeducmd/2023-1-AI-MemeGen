{
 "cells": [
  {
   "cell_type": "code",
   "execution_count": null,
   "metadata": {
    "id": "bL80QEPlHBSw"
   },
   "outputs": [],
   "source": [
    "!pip install -r requirements.txt"
   ]
  },
  {
   "cell_type": "code",
   "execution_count": 2,
   "metadata": {
    "colab": {
     "base_uri": "https://localhost:8080/"
    },
    "id": "Rbp9Vo4QWuQg",
    "outputId": "0d0f4d07-0ca2-43f5-c48b-a92fed7b0e0b"
   },
   "outputs": [
    {
     "name": "stdout",
     "output_type": "stream",
     "text": [
      "Looking in indexes: https://pypi.org/simple, https://us-python.pkg.dev/colab-wheels/public/simple/\n",
      "Collecting tensorrt\n",
      "  Downloading tensorrt-8.6.1.tar.gz (16 kB)\n",
      "  Preparing metadata (setup.py) ... \u001b[?25l\u001b[?25hdone\n",
      "Building wheels for collected packages: tensorrt\n",
      "  Building wheel for tensorrt (setup.py) ... \u001b[?25l\u001b[?25hdone\n",
      "  Created wheel for tensorrt: filename=tensorrt-8.6.1-py2.py3-none-any.whl size=16973 sha256=989bf5124695a99795821c187afafe90a7aeac38747b5d750ca173571fb5d6ed\n",
      "  Stored in directory: /root/.cache/pip/wheels/6d/29/56/abdffd4c604f255b5254bef3f1c598ab7811ea020540599438\n",
      "Successfully built tensorrt\n",
      "Installing collected packages: tensorrt\n",
      "Successfully installed tensorrt-8.6.1\n"
     ]
    }
   ],
   "source": [
    "!pip install tensorrt"
   ]
  },
  {
   "cell_type": "code",
   "execution_count": 6,
   "metadata": {
    "colab": {
     "base_uri": "https://localhost:8080/"
    },
    "id": "a1VpNZJOTqBp",
    "outputId": "a80c3408-f6c1-47b2-b815-8cda7269d0f9"
   },
   "outputs": [
    {
     "name": "stdout",
     "output_type": "stream",
     "text": [
      "2023-06-15 05:27:46.521279: W tensorflow/compiler/tf2tensorrt/utils/py_utils.cc:38] TF-TRT Warning: Could not find TensorRT\n",
      "Downloading (…)tokenizer/vocab.json: 100% 1.06M/1.06M [00:00<00:00, 11.1MB/s]\n",
      "Downloading (…)tokenizer/merges.txt: 100% 525k/525k [00:00<00:00, 10.7MB/s]\n",
      "Downloading (…)cial_tokens_map.json: 100% 472/472 [00:00<00:00, 2.86MB/s]\n",
      "Downloading (…)okenizer_config.json: 100% 806/806 [00:00<00:00, 3.30MB/s]\n",
      "Downloading (…)_encoder/config.json: 100% 617/617 [00:00<00:00, 2.56MB/s]\n",
      "Downloading pytorch_model.bin: 100% 492M/492M [00:04<00:00, 111MB/s]\n",
      "Downloading (…)main/vae/config.json: 100% 552/552 [00:00<00:00, 3.03MB/s]\n",
      "Downloading (…)on_pytorch_model.bin: 100% 335M/335M [00:02<00:00, 146MB/s]\n",
      "Downloading (…)ain/unet/config.json: 100% 748/748 [00:00<00:00, 4.49MB/s]\n",
      "Downloading (…)on_pytorch_model.bin: 100% 3.44G/3.44G [00:24<00:00, 138MB/s]\n",
      "Downloading (…)cheduler_config.json: 100% 313/313 [00:00<00:00, 1.52MB/s]\n",
      "Steps: 100% 400/400 [07:47<00:00,  1.17s/it, loss=0.0915, lr=5e-6]\n"
     ]
    }
   ],
   "source": [
    "!export MODEL_NAME=\"runwayml/stable-diffusion-inpainting\"\n",
    "!export INSTANCE_DIR=\"./instance\"\n",
    "!export OUTPUT_DIR=\"./model\"\n",
    "\n",
    "!/usr/bin/python3 train_dreambooth_inpaint_lora.py \\\n",
    "  --pretrained_model_name_or_path=\"runwayml/stable-diffusion-inpainting\"  \\\n",
    "  --instance_data_dir=\"instance\" \\\n",
    "  --output_dir=\"model\" \\\n",
    "  --train_text_encoder \\\n",
    "  --instance_prompt=\"a photo of sks panda\" \\\n",
    "  --resolution=512 \\\n",
    "  --train_batch_size=1 \\\n",
    "  --gradient_accumulation_steps=1 \\\n",
    "  --learning_rate=5e-6 \\\n",
    "  --lr_scheduler=\"constant\" \\\n",
    "  --lr_warmup_steps=0 \\\n",
    "  --max_train_steps=400"
   ]
  },
  {
   "cell_type": "code",
   "execution_count": 3,
   "metadata": {
    "colab": {
     "base_uri": "https://localhost:8080/"
    },
    "id": "I0TvoPY6VHzq",
    "outputId": "ea5f669c-9b17-4248-efdb-0274f0fdae90"
   },
   "outputs": [
    {
     "name": "stdout",
     "output_type": "stream",
     "text": [
      "/content\n"
     ]
    }
   ],
   "source": [
    "!pwd"
   ]
  },
  {
   "cell_type": "code",
   "execution_count": null,
   "metadata": {
    "id": "32mnzqC8jkAv"
   },
   "outputs": [],
   "source": []
  },
  {
   "cell_type": "code",
   "execution_count": null,
   "metadata": {
    "id": "27ytr9aAVUvm"
   },
   "outputs": [],
   "source": []
  }
 ],
 "metadata": {
  "accelerator": "GPU",
  "colab": {
   "gpuType": "T4",
   "machine_shape": "hm",
   "provenance": []
  },
  "kernelspec": {
   "display_name": "Python 3 (ipykernel)",
   "language": "python",
   "name": "python3"
  },
  "language_info": {
   "codemirror_mode": {
    "name": "ipython",
    "version": 3
   },
   "file_extension": ".py",
   "mimetype": "text/x-python",
   "name": "python",
   "nbconvert_exporter": "python",
   "pygments_lexer": "ipython3",
   "version": "3.9.7"
  }
 },
 "nbformat": 4,
 "nbformat_minor": 1
}
