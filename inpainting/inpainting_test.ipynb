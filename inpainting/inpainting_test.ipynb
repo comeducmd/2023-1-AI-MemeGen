{
 "cells": [
  {
   "cell_type": "code",
   "execution_count": null,
   "id": "cdb2c6c8",
   "metadata": {
    "ExecuteTime": {
     "end_time": "2023-06-15T06:23:27.930957Z",
     "start_time": "2023-06-15T06:23:22.001870Z"
    },
    "scrolled": true
   },
   "outputs": [],
   "source": [
    "import os\n",
    "\n",
    "import torch\n",
    "from diffusers import StableDiffusionInpaintPipeline\n"
   ]
  },
  {
   "cell_type": "code",
   "execution_count": null,
   "id": "a985f88f",
   "metadata": {},
   "outputs": [],
   "source": []
  }
 ],
 "metadata": {
  "kernelspec": {
   "display_name": "aicoding",
   "language": "python",
   "name": "aicoding"
  },
  "language_info": {
   "codemirror_mode": {
    "name": "ipython",
    "version": 3
   },
   "file_extension": ".py",
   "mimetype": "text/x-python",
   "name": "python",
   "nbconvert_exporter": "python",
   "pygments_lexer": "ipython3",
   "version": "3.7.13"
  }
 },
 "nbformat": 4,
 "nbformat_minor": 5
}
